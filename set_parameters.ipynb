{
 "cells": [
  {
   "cell_type": "code",
   "execution_count": 1,
   "id": "f33dcd68-12d8-4505-af8f-169fdf8edc36",
   "metadata": {},
   "outputs": [],
   "source": [
    "import os\n",
    "import json\n",
    "\n",
    "sysparams = vars().copy()"
   ]
  },
  {
   "cell_type": "markdown",
   "id": "acb4f09f-8370-4bca-bd4f-937960d6c06e",
   "metadata": {},
   "source": [
    "### Specify the pipeline parameters"
   ]
  },
  {
   "cell_type": "code",
   "execution_count": 2,
   "id": "9f5cf762-17f0-46ba-9af8-ba8061e68672",
   "metadata": {},
   "outputs": [],
   "source": [
    "parameter_fn = 'parameters.json'\n",
    "\n",
    "db_filename = \"path/to/database/cosmos2.sqlite\"\n",
    "workflow_name = 'CARE_test'\n",
    "\n",
    "base_dir = \"path/to/the/directory/with/data\"\n",
    "input_dir = \"input_data\" # folder with the input data\n",
    "data_dir = \"CARE_data\"  # folder to store CARE pairs\n",
    "model_dir = 'CARE_models'\n",
    "accuracy_dir = 'accuracy'\n",
    "accuracy_fn = 'accuracy.csv'\n",
    "n_jobs = 30\n",
    "name_high='high'\n",
    "name_low='low'\n",
    "name_train='train'\n",
    "name_validation='validation'\n",
    "name_test='test'\n",
    "axes = 'ZYX'\n",
    "save_training_history = False\n",
    "\n",
    "input_pairs = [('high_power/deconvolved', 'low_power/raw')]\n",
    "test_fraction = 0.2\n",
    "validation_fraction = 0.2\n",
    "patch_size = [(16, 32, 32),\n",
    "              (32, 64, 64)]\n",
    "n_patches_per_image = [20]\n",
    "\n",
    "train_epochs = 10\n",
    "train_steps_per_epoch = [10]\n",
    "train_batch_size = [8]\n"
   ]
  },
  {
   "cell_type": "code",
   "execution_count": 3,
   "id": "75870507-f785-46fa-bdd3-0bc362d87893",
   "metadata": {},
   "outputs": [
    {
     "data": {
      "text/plain": [
       "{'parameter_fn': '/research/sharedresources/cbi/common/Anna/codes/COSMOS-CARE/parameters.json',\n",
       " 'db_filename': 'path/to/database/cosmos2.sqlite',\n",
       " 'workflow_name': 'CARE_test',\n",
       " 'base_dir': 'path/to/the/directory/with/data',\n",
       " 'input_dir': 'input_data',\n",
       " 'data_dir': 'CARE_data',\n",
       " 'model_dir': 'CARE_models',\n",
       " 'accuracy_dir': 'accuracy',\n",
       " 'accuracy_fn': 'accuracy.csv',\n",
       " 'n_jobs': 30,\n",
       " 'name_high': 'high',\n",
       " 'name_low': 'low',\n",
       " 'name_train': 'train',\n",
       " 'name_validation': 'validation',\n",
       " 'name_test': 'test',\n",
       " 'axes': 'ZYX',\n",
       " 'save_training_history': False,\n",
       " 'input_pairs': [('high_power/deconvolved', 'low_power/raw')],\n",
       " 'test_fraction': 0.2,\n",
       " 'validation_fraction': 0.2,\n",
       " 'patch_size': [(16, 32, 32), (32, 64, 64)],\n",
       " 'n_patches_per_image': [20],\n",
       " 'train_epochs': 10,\n",
       " 'train_steps_per_epoch': [10],\n",
       " 'train_batch_size': [8]}"
      ]
     },
     "execution_count": 3,
     "metadata": {},
     "output_type": "execute_result"
    }
   ],
   "source": [
    "parameter_fn = os.path.abspath(parameter_fn)\n",
    "args = vars().copy()\n",
    "keys = [key for key in args.keys() \n",
    "        if not (key.startswith('_') or key in sysparams or key == 'sysparams')]\n",
    "params = {key: args[key] for key in keys}\n",
    "os.makedirs(os.path.dirname(parameter_fn), exist_ok=True)\n",
    "with open(parameter_fn, 'w') as f:\n",
    "    json.dump(params, f, indent=4)\n",
    "params"
   ]
  },
  {
   "cell_type": "markdown",
   "id": "662a4a7c-30c8-4ae5-a9dd-1a9abcfff776",
   "metadata": {},
   "source": [
    "### Running the workflow\n",
    "\n",
    "To run locally, run `python cosmos_workflow.py -p parameters.json`\n",
    "\n",
    "To generate a bsub command to submit to an lsf cluster, specify the following parameters:"
   ]
  },
  {
   "cell_type": "code",
   "execution_count": 4,
   "id": "0f73db18-8784-4506-800a-96e2bb319889",
   "metadata": {},
   "outputs": [],
   "source": [
    "n_cores = 30\n",
    "n_gpus = 2\n",
    "queue = 'dgx'\n",
    "max_mem_gb = 300\n",
    "python_path = \"'/path/to/your/python/environment/bin/:$PATH'\""
   ]
  },
  {
   "cell_type": "code",
   "execution_count": 5,
   "id": "1d08aa9f-256b-4728-80ff-2baeac9fb76f",
   "metadata": {},
   "outputs": [],
   "source": [
    "parameter_fn = os.path.abspath(parameter_fn)\n",
    "code_path = os.path.abspath('cosmos_workflow.py')"
   ]
  },
  {
   "cell_type": "code",
   "execution_count": 6,
   "id": "b0f2ed9a-a71d-4b06-8b8e-4e2465a85134",
   "metadata": {},
   "outputs": [
    {
     "name": "stdout",
     "output_type": "stream",
     "text": [
      "bsub -P CARE -J CARE -q dgx -n 30 -gpu \"num=2:mode=exclusive_process\" -R \"rusage[mem=10G]\" \"export PATH='/path/to/your/python/environment/bin/:$PATH'; python /research/sharedresources/cbi/common/Anna/codes/COSMOS-CARE/cosmos_workflow.py -p /research/sharedresources/cbi/common/Anna/codes/COSMOS-CARE/parameters.json -g 2 -c 30\"\n"
     ]
    }
   ],
   "source": [
    "command = rf'python {code_path} -p {parameter_fn} -g {n_gpus} -c {n_cores}'\n",
    "\n",
    "command = f'bsub -P CARE -J CARE -q {queue} -n {n_cores} -gpu \"num={n_gpus}:mode=exclusive_process\"'\\\n",
    "          f' -R \"rusage[mem={int(max_mem_gb/n_cores)}G]\" \"export PATH={python_path}; {command}\"' \n",
    "print(command)"
   ]
  },
  {
   "cell_type": "code",
   "execution_count": null,
   "id": "99e200fe-b5f3-4426-bc32-890eaf3455ce",
   "metadata": {},
   "outputs": [],
   "source": []
  }
 ],
 "metadata": {
  "kernelspec": {
   "display_name": "Python [conda env:mt_restoration]",
   "language": "python",
   "name": "conda-env-mt_restoration-py"
  },
  "language_info": {
   "codemirror_mode": {
    "name": "ipython",
    "version": 3
   },
   "file_extension": ".py",
   "mimetype": "text/x-python",
   "name": "python",
   "nbconvert_exporter": "python",
   "pygments_lexer": "ipython3",
   "version": "3.7.12"
  }
 },
 "nbformat": 4,
 "nbformat_minor": 5
}
