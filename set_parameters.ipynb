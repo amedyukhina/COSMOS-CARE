{
 "cells": [
  {
   "cell_type": "code",
   "execution_count": 1,
   "id": "f33dcd68-12d8-4505-af8f-169fdf8edc36",
   "metadata": {},
   "outputs": [],
   "source": [
    "import os\n",
    "import json\n",
    "\n",
    "sysparams = vars().copy()"
   ]
  },
  {
   "cell_type": "code",
   "execution_count": 2,
   "id": "9f5cf762-17f0-46ba-9af8-ba8061e68672",
   "metadata": {},
   "outputs": [],
   "source": [
    "parameter_fn = 'parameters.json'\n",
    "\n",
    "db_filename = \"/research/sharedresources/cbi/data_exchange/hangrp/\"\\\n",
    "    \"Development/Restoration/Measured/cosmos.sqlite\"\n",
    "workflow_name = 'CARE_test'\n",
    "\n",
    "base_dir = \"/research/sharedresources/cbi/data_exchange/hangrp/\"\\\n",
    "    \"Development/Restoration/Measured/Analysis_test\"\n",
    "input_dir = \"ROI\"\n",
    "data_dir = \"CARE_data\"\n",
    "model_dir = 'CARE_models'\n",
    "accuracy_dir = 'accuracy'\n",
    "accuracy_fn = 'accuracy.csv'\n",
    "n_jobs = 30\n",
    "name_high='high'\n",
    "name_low='low'\n",
    "name_train='train'\n",
    "name_validation='validation'\n",
    "name_test='test'\n",
    "axes = 'ZYX'\n",
    "\n",
    "input_pairs = [('high/deconvolved', 'low/raw'),\n",
    "               ('high/deconvolved', 'low/deconvolved')]\n",
    "patch_size = [(8, 8, 8),\n",
    "              (16, 16, 16)]\n",
    "n_patches_per_image = [50]\n",
    "\n",
    "train_epochs = 10\n",
    "train_steps_per_epoch = [10]\n",
    "train_batch_size = [8]\n"
   ]
  },
  {
   "cell_type": "code",
   "execution_count": 3,
   "id": "75870507-f785-46fa-bdd3-0bc362d87893",
   "metadata": {},
   "outputs": [
    {
     "data": {
      "text/plain": [
       "{'parameter_fn': '/research/sharedresources/cbi/common/Anna/codes/COSMOS-CARE/parameters.json',\n",
       " 'db_filename': '/research/sharedresources/cbi/data_exchange/hangrp/Development/Restoration/Measured/cosmos.sqlite',\n",
       " 'workflow_name': 'CARE_test',\n",
       " 'base_dir': '/research/sharedresources/cbi/data_exchange/hangrp/Development/Restoration/Measured/Analysis_test',\n",
       " 'input_dir': 'ROI',\n",
       " 'data_dir': 'CARE_data',\n",
       " 'model_dir': 'CARE_models',\n",
       " 'accuracy_dir': 'accuracy',\n",
       " 'accuracy_fn': 'accuracy.csv',\n",
       " 'n_jobs': 30,\n",
       " 'name_high': 'high',\n",
       " 'name_low': 'low',\n",
       " 'name_train': 'train',\n",
       " 'name_validation': 'validation',\n",
       " 'name_test': 'test',\n",
       " 'axes': 'ZYX',\n",
       " 'input_pairs': [('high/deconvolved', 'low/raw'),\n",
       "  ('high/deconvolved', 'low/deconvolved')],\n",
       " 'patch_size': [(8, 8, 8), (16, 16, 16)],\n",
       " 'n_patches_per_image': [50],\n",
       " 'train_epochs': 10,\n",
       " 'train_steps_per_epoch': [10],\n",
       " 'train_batch_size': [8]}"
      ]
     },
     "execution_count": 3,
     "metadata": {},
     "output_type": "execute_result"
    }
   ],
   "source": [
    "parameter_fn = os.path.abspath(parameter_fn)\n",
    "args = vars().copy()\n",
    "keys = [key for key in args.keys() \n",
    "        if not (key.startswith('_') or key in sysparams or key == 'sysparams')]\n",
    "params = {key: args[key] for key in keys}\n",
    "params"
   ]
  },
  {
   "cell_type": "code",
   "execution_count": 4,
   "id": "fabc0efa-f50b-41a4-80b6-4d742943cddd",
   "metadata": {},
   "outputs": [],
   "source": [
    "os.makedirs(os.path.dirname(parameter_fn), exist_ok=True)\n",
    "with open(parameter_fn, 'w') as f:\n",
    "    json.dump(params, f, indent=4)"
   ]
  },
  {
   "cell_type": "code",
   "execution_count": null,
   "id": "0f73db18-8784-4506-800a-96e2bb319889",
   "metadata": {},
   "outputs": [],
   "source": []
  }
 ],
 "metadata": {
  "kernelspec": {
   "display_name": "Python [conda env:mt_restoration]",
   "language": "python",
   "name": "conda-env-mt_restoration-py"
  },
  "language_info": {
   "codemirror_mode": {
    "name": "ipython",
    "version": 3
   },
   "file_extension": ".py",
   "mimetype": "text/x-python",
   "name": "python",
   "nbconvert_exporter": "python",
   "pygments_lexer": "ipython3",
   "version": "3.7.12"
  }
 },
 "nbformat": 4,
 "nbformat_minor": 5
}
